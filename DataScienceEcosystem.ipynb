{
 "cells": [
  {
   "cell_type": "markdown",
   "id": "669812f9-a7fe-48eb-9142-3e86dd0af56a",
   "metadata": {},
   "source": [
    "# Data Science Tools and Ecosystem"
   ]
  },
  {
   "cell_type": "markdown",
   "id": "77adf21f-22a3-4336-9b4b-d9808ab13d2d",
   "metadata": {},
   "source": [
    " ### In this notebook, Data Science Tools and Ecosystem are summarized."
   ]
  },
  {
   "cell_type": "markdown",
   "id": "69e55808-c09f-4b35-af97-37dcaa716c03",
   "metadata": {
    "tags": []
   },
   "source": [
    "####\n",
    "\n",
    "Some of the popular languages that Data Scientists use are:\n",
    "\n",
    "Python\n",
    "R\n",
    "SQL"
   ]
  },
  {
   "cell_type": "markdown",
   "id": "d35d0c28-22a9-432e-93cb-3fe919db0d2f",
   "metadata": {
    "tags": []
   },
   "source": [
    "#### Some of the commonly used libraries used by Data Scientists include:\n",
    "\n",
    "NumPy\n",
    "Pandas\n",
    "Matplotlib\n",
    "Scikit-learn"
   ]
  },
  {
   "cell_type": "markdown",
   "id": "d724627b-bb66-4025-8cab-f4c3e5af9231",
   "metadata": {
    "tags": []
   },
   "source": [
    "##\n",
    "\n",
    "|Data Science Tools|\n",
    "|------------------|\n",
    "|Jupyter Notebook|\n",
    "|RStudio|\n",
    "|PyCharm|\n"
   ]
  },
  {
   "cell_type": "markdown",
   "id": "36aa392a-05d1-44b6-b692-e661a5840a92",
   "metadata": {
    "tags": []
   },
   "source": [
    "##\n",
    "Below are a few examples of evaluating arithmetic expressions in Python."
   ]
  },
  {
   "cell_type": "code",
   "execution_count": 2,
   "id": "8a0dea50-ed57-44d8-a4a3-a89c617ce5cf",
   "metadata": {
    "tags": []
   },
   "outputs": [
    {
     "data": {
      "text/plain": [
       "17"
      ]
     },
     "execution_count": 2,
     "metadata": {},
     "output_type": "execute_result"
    }
   ],
   "source": [
    "# This a simple arithmetic expression to mutiply then add integers.\n",
    "(3*4)+5"
   ]
  },
  {
   "cell_type": "code",
   "execution_count": 3,
   "id": "b90b5581-9607-4311-9dee-b71f7b2ded18",
   "metadata": {
    "tags": []
   },
   "outputs": [
    {
     "data": {
      "text/plain": [
       "3.3333333333333335"
      ]
     },
     "execution_count": 3,
     "metadata": {},
     "output_type": "execute_result"
    }
   ],
   "source": [
    "# This will convert 200 minutes to hours by dividing by 60\n",
    "200 / 60"
   ]
  },
  {
   "cell_type": "markdown",
   "id": "8fbcd29b-a76e-4553-9665-6032aad81e5d",
   "metadata": {},
   "source": [
    "Objectives:\n",
    "\n",
    "List popular languages for Data Science\\\n",
    "Introduce common data science libraries\\\n",
    "Demonstrate arithmetic operations in Python\\\n",
    "Convert minutes to hours using Python\\\n",
    "Provide an overview of key takeaways from the course"
   ]
  },
  {
   "cell_type": "markdown",
   "id": "39f466b6-2dbc-41b4-a02c-b6d676dcc954",
   "metadata": {},
   "source": [
    "## Author \n",
    "### Abdulsalam  "
   ]
  },
  {
   "cell_type": "code",
   "execution_count": null,
   "id": "13c947fc-9e4c-4cc2-b3db-ef1e7a91cdc7",
   "metadata": {},
   "outputs": [],
   "source": []
  }
 ],
 "metadata": {
  "kernelspec": {
   "display_name": "Python 3 (ipykernel)",
   "language": "python",
   "name": "python3"
  },
  "language_info": {
   "codemirror_mode": {
    "name": "ipython",
    "version": 3
   },
   "file_extension": ".py",
   "mimetype": "text/x-python",
   "name": "python",
   "nbconvert_exporter": "python",
   "pygments_lexer": "ipython3",
   "version": "3.11.5"
  }
 },
 "nbformat": 4,
 "nbformat_minor": 5
}
